{
 "cells": [
  {
   "cell_type": "markdown",
   "metadata": {
    "vscode": {
     "languageId": "plaintext"
    }
   },
   "source": [
    "# Import Lib & Data\n"
   ]
  },
  {
   "cell_type": "code",
   "execution_count": null,
   "metadata": {},
   "outputs": [],
   "source": [
    "import numpy as np\n",
    "import pandas as pd\n",
    "import scipy.io as sio\n",
    "import tensorly as tl\n",
    "from tensorly.decomposition import parafac\n",
    "from sklearn.decomposition import PCA\n",
    "from sklearn.preprocessing import StandardScaler\n",
    "from sklearn.linear_model import RidgeCV\n",
    "from sklearn.model_selection import cross_val_score"
   ]
  },
  {
   "cell_type": "code",
   "execution_count": 1,
   "metadata": {},
   "outputs": [
    {
     "name": "stderr",
     "output_type": "stream",
     "text": [
      "/var/folders/55/brtsb88x4wz9n5kxdtldl3940000gn/T/ipykernel_90189/452374942.py:5: FutureWarning: The 'delim_whitespace' keyword in pd.read_csv is deprecated and will be removed in a future version. Use ``sep='\\s+'`` instead\n",
      "  df_cts = pd.read_csv(\"Acar_data/concentrations.txt\", delim_whitespace=True)\n"
     ]
    }
   ],
   "source": [
    "import scipy.io as sio\n",
    "import pandas as pd\n",
    "\n",
    "df_mat = sio.loadmat(\"Acar_data/EEM_NMR_LCMS.mat\")\n",
    "df_cts = pd.read_csv(\"Acar_data/concentrations.txt\", delim_whitespace=True)"
   ]
  },
  {
   "cell_type": "code",
   "execution_count": 2,
   "metadata": {},
   "outputs": [
    {
     "data": {
      "text/html": [
       "<div>\n",
       "<style scoped>\n",
       "    .dataframe tbody tr th:only-of-type {\n",
       "        vertical-align: middle;\n",
       "    }\n",
       "\n",
       "    .dataframe tbody tr th {\n",
       "        vertical-align: top;\n",
       "    }\n",
       "\n",
       "    .dataframe thead th {\n",
       "        text-align: right;\n",
       "    }\n",
       "</style>\n",
       "<table border=\"1\" class=\"dataframe\">\n",
       "  <thead>\n",
       "    <tr style=\"text-align: right;\">\n",
       "      <th></th>\n",
       "      <th>Val-Tyr-Val</th>\n",
       "      <th>Trp-Gly</th>\n",
       "      <th>Phe</th>\n",
       "      <th>Malto</th>\n",
       "      <th>Propanol</th>\n",
       "    </tr>\n",
       "  </thead>\n",
       "  <tbody>\n",
       "    <tr>\n",
       "      <th>1</th>\n",
       "      <td>5.0</td>\n",
       "      <td>0.0</td>\n",
       "      <td>0.0</td>\n",
       "      <td>0.0</td>\n",
       "      <td>0.0</td>\n",
       "    </tr>\n",
       "    <tr>\n",
       "      <th>2</th>\n",
       "      <td>0.0</td>\n",
       "      <td>5.0</td>\n",
       "      <td>0.0</td>\n",
       "      <td>0.0</td>\n",
       "      <td>0.0</td>\n",
       "    </tr>\n",
       "    <tr>\n",
       "      <th>3</th>\n",
       "      <td>0.0</td>\n",
       "      <td>0.0</td>\n",
       "      <td>5.0</td>\n",
       "      <td>0.0</td>\n",
       "      <td>0.0</td>\n",
       "    </tr>\n",
       "  </tbody>\n",
       "</table>\n",
       "</div>"
      ],
      "text/plain": [
       "   Val-Tyr-Val  Trp-Gly  Phe  Malto  Propanol\n",
       "1          5.0      0.0  0.0    0.0       0.0\n",
       "2          0.0      5.0  0.0    0.0       0.0\n",
       "3          0.0      0.0  5.0    0.0       0.0"
      ]
     },
     "execution_count": 2,
     "metadata": {},
     "output_type": "execute_result"
    }
   ],
   "source": [
    "df_cts.head(3)"
   ]
  },
  {
   "cell_type": "code",
   "execution_count": 3,
   "metadata": {},
   "outputs": [
    {
     "name": "stdout",
     "output_type": "stream",
     "text": [
      "dict_keys(['__header__', '__version__', '__globals__', 'Y', 'X', 'Z'])\n",
      "('name', 'type', 'author', 'date', 'moddate', 'imagesize', 'imagemode', 'data', 'label', 'axisscale', 'imageaxisscale', 'title', 'class', 'include', 'classlookup', 'axistype', 'imageaxistype', 'description', 'userdata', 'datasetversion', 'history', 'uniqueid')\n"
     ]
    }
   ],
   "source": [
    "print(df_mat.keys())\n",
    "print(df_mat[\"X\"].dtype.names)"
   ]
  },
  {
   "cell_type": "code",
   "execution_count": null,
   "metadata": {},
   "outputs": [
    {
     "name": "stdout",
     "output_type": "stream",
     "text": [
      "Extracted EEM data with shape (28, 251, 21)\n",
      "Extracted 3-way NMR data with shape (28, 13324, 8)\n",
      "Extracted LCMS data with shape (28, 168)\n"
     ]
    }
   ],
   "source": [
    "data_dic = {}\n",
    "dimensions = [\"X\", \"Y\", \"Z\"]\n",
    "for dim in dimensions:\n",
    "    mesurement_technique = df_mat[dim][\"name\"][0][0][0]\n",
    "    data = df_mat[dim][\"data\"][0][0]\n",
    "    data_dic[mesurement_technique] = data\n",
    "    print(f\"Extracted {mesurement_technique} data with shape {data.shape}\")\n",
    "\n",
    "X_eem = data_dic[\"EEM\"]\n",
    "X_nmr = data_dic[\"3-way NMR\"]\n",
    "X_lcms = data_dic[\"LCMS\"]"
   ]
  },
  {
   "cell_type": "markdown",
   "metadata": {},
   "source": [
    "# Check for missing values\n"
   ]
  },
  {
   "cell_type": "code",
   "execution_count": null,
   "metadata": {},
   "outputs": [
    {
     "name": "stdout",
     "output_type": "stream",
     "text": [
      "NaNs ? False\n",
      "Inf ? False\n",
      "NaN ratio : 0 / 4704 = 0.00%\n"
     ]
    }
   ],
   "source": [
    "print(\"NaNs ?\", np.isnan(X_lcms).any())\n",
    "print(\"Inf ?\", np.isinf(X_lcms).any())\n",
    "nb_of_values = X_lcms.shape[0] * X_lcms.shape[1]\n",
    "nb_nan = np.isnan(X_lcms).sum()\n",
    "print(f\"NaN ratio : {nb_nan} / {nb_of_values} = {nb_nan/nb_of_values:.2%}\")"
   ]
  },
  {
   "cell_type": "code",
   "execution_count": null,
   "metadata": {},
   "outputs": [
    {
     "name": "stdout",
     "output_type": "stream",
     "text": [
      "NaNs ? False\n",
      "Inf ? False\n",
      "NaN ratio : 0 / 2984576 = 0.00%\n"
     ]
    }
   ],
   "source": [
    "print(\"NaNs ?\", np.isnan(X_nmr).any())\n",
    "print(\"Inf ?\", np.isinf(X_nmr).any())\n",
    "nb_of_values = X_nmr.shape[0] * X_nmr.shape[1] * X_nmr.shape[2]\n",
    "nb_nan = np.isnan(X_nmr).sum()\n",
    "print(f\"NaN ratio : {nb_nan} / {nb_of_values} = {nb_nan/nb_of_values:.2%}\")"
   ]
  },
  {
   "cell_type": "code",
   "execution_count": null,
   "metadata": {},
   "outputs": [
    {
     "name": "stdout",
     "output_type": "stream",
     "text": [
      "NaNs ? True\n",
      "Inf ? False\n",
      "NaN ratio : 11508 / 147588 = 7.80%\n"
     ]
    }
   ],
   "source": [
    "print(\"NaNs ?\", np.isnan(X_eem).any())\n",
    "print(\"Inf ?\", np.isinf(X_eem).any())\n",
    "nb_of_values = X_eem.shape[0] * X_eem.shape[1] * X_eem.shape[2]\n",
    "nb_nan = np.isnan(X_eem).sum()\n",
    "print(f\"NaN ratio : {nb_nan} / {nb_of_values} = {nb_nan/nb_of_values:.2%}\")"
   ]
  },
  {
   "cell_type": "markdown",
   "metadata": {},
   "source": [
    "# PARAFAC\n"
   ]
  },
  {
   "cell_type": "code",
   "execution_count": null,
   "metadata": {},
   "outputs": [
    {
     "name": "stdout",
     "output_type": "stream",
     "text": [
      "-------------------- Performing CP decomposition --------------------\n",
      "Tenseur shape avant CP: (28, 13324, 8)\n",
      "0. Shape du facteur 0 : ()\n",
      "1. Shape du facteur 1 : (28, 3)\n",
      "Tenseur shape avant CP: (28, 251, 21)\n"
     ]
    },
    {
     "ename": "LinAlgError",
     "evalue": "SVD did not converge",
     "output_type": "error",
     "traceback": [
      "\u001b[31m---------------------------------------------------------------------------\u001b[39m",
      "\u001b[31mLinAlgError\u001b[39m                               Traceback (most recent call last)",
      "\u001b[36mCell\u001b[39m\u001b[36m \u001b[39m\u001b[32mIn[27]\u001b[39m\u001b[32m, line 38\u001b[39m\n\u001b[32m     35\u001b[39m \u001b[38;5;28mprint\u001b[39m(\u001b[33m\"\u001b[39m\u001b[33m-\u001b[39m\u001b[33m\"\u001b[39m * \u001b[32m20\u001b[39m, \u001b[33m\"\u001b[39m\u001b[33mPerforming CP decomposition\u001b[39m\u001b[33m\"\u001b[39m, \u001b[33m\"\u001b[39m\u001b[33m-\u001b[39m\u001b[33m\"\u001b[39m * \u001b[32m20\u001b[39m)\n\u001b[32m     37\u001b[39m scores_nmr = cp_scores(X_nmr, CP_RANK_NMR)\n\u001b[32m---> \u001b[39m\u001b[32m38\u001b[39m scores_eem = \u001b[43mcp_scores\u001b[49m\u001b[43m(\u001b[49m\u001b[43mX_eem\u001b[49m\u001b[43m,\u001b[49m\u001b[43m \u001b[49m\u001b[43mCP_RANK_EEM\u001b[49m\u001b[43m)\u001b[49m\n\u001b[32m     40\u001b[39m \u001b[38;5;66;03m#  PCA LCMS\u001b[39;00m\n\u001b[32m     41\u001b[39m pca_lcms = PCA(n_components=PCA_RANK_LCMS, random_state=SEED)\n",
      "\u001b[36mCell\u001b[39m\u001b[36m \u001b[39m\u001b[32mIn[27]\u001b[39m\u001b[32m, line 24\u001b[39m, in \u001b[36mcp_scores\u001b[39m\u001b[34m(tensor, rank)\u001b[39m\n\u001b[32m     18\u001b[39m     \u001b[38;5;28;01mraise\u001b[39;00m \u001b[38;5;167;01mValueError\u001b[39;00m(\n\u001b[32m     19\u001b[39m         \u001b[33m\"\u001b[39m\u001b[33mLe mode 0 n\u001b[39m\u001b[33m'\u001b[39m\u001b[33mest pas celui des individus. Tenseur mal orienté.\u001b[39m\u001b[33m\"\u001b[39m\n\u001b[32m     20\u001b[39m     )\n\u001b[32m     22\u001b[39m \u001b[38;5;66;03m# PARAFAC\u001b[39;00m\n\u001b[32m     23\u001b[39m \u001b[38;5;66;03m# factors = parafac(tensor, rank=rank, init='svd', random_state=SEED)\u001b[39;00m\n\u001b[32m---> \u001b[39m\u001b[32m24\u001b[39m factors = \u001b[43mparafac\u001b[49m\u001b[43m(\u001b[49m\n\u001b[32m     25\u001b[39m \u001b[43m    \u001b[49m\u001b[43mtensor\u001b[49m\u001b[43m,\u001b[49m\u001b[43m \u001b[49m\u001b[43mrank\u001b[49m\u001b[43m=\u001b[49m\u001b[43mrank\u001b[49m\u001b[43m,\u001b[49m\u001b[43m \u001b[49m\u001b[43mn_iter_max\u001b[49m\u001b[43m=\u001b[49m\u001b[32;43m2000\u001b[39;49m\u001b[43m,\u001b[49m\u001b[43m \u001b[49m\u001b[43mtol\u001b[49m\u001b[43m=\u001b[49m\u001b[32;43m1e-6\u001b[39;49m\u001b[43m,\u001b[49m\u001b[43m \u001b[49m\u001b[43minit\u001b[49m\u001b[43m=\u001b[49m\u001b[33;43m\"\u001b[39;49m\u001b[33;43msvd\u001b[39;49m\u001b[33;43m\"\u001b[39;49m\u001b[43m,\u001b[49m\u001b[43m \u001b[49m\u001b[43mrandom_state\u001b[49m\u001b[43m=\u001b[49m\u001b[43mSEED\u001b[49m\n\u001b[32m     26\u001b[39m \u001b[43m\u001b[49m\u001b[43m)\u001b[49m\n\u001b[32m     27\u001b[39m \u001b[38;5;28;01mfor\u001b[39;00m i, f \u001b[38;5;129;01min\u001b[39;00m \u001b[38;5;28menumerate\u001b[39m(factors):\n\u001b[32m     28\u001b[39m     \u001b[38;5;28mprint\u001b[39m(\u001b[33mf\u001b[39m\u001b[33m\"\u001b[39m\u001b[38;5;132;01m{\u001b[39;00mi\u001b[38;5;132;01m}\u001b[39;00m\u001b[33m. Shape du facteur \u001b[39m\u001b[38;5;132;01m{\u001b[39;00mi\u001b[38;5;132;01m}\u001b[39;00m\u001b[33m : \u001b[39m\u001b[38;5;132;01m{\u001b[39;00mf[\u001b[32m0\u001b[39m].shape\u001b[38;5;132;01m}\u001b[39;00m\u001b[33m\"\u001b[39m)\n",
      "\u001b[36mFile \u001b[39m\u001b[32m/opt/homebrew/Caskroom/miniconda/base/envs/amda/lib/python3.12/site-packages/tensorly/decomposition/_cp.py:338\u001b[39m, in \u001b[36mparafac\u001b[39m\u001b[34m(tensor, rank, n_iter_max, init, svd, normalize_factors, orthogonalise, tol, random_state, verbose, return_errors, sparsity, l2_reg, mask, cvg_criterion, fixed_modes, svd_mask_repeats, linesearch, callback)\u001b[39m\n\u001b[32m    335\u001b[39m     acc_fail = \u001b[32m0\u001b[39m  \u001b[38;5;66;03m# How many times acceleration have failed\u001b[39;00m\n\u001b[32m    336\u001b[39m     max_fail = \u001b[32m4\u001b[39m  \u001b[38;5;66;03m# Increase acc_pow with one after max_fail failure\u001b[39;00m\n\u001b[32m--> \u001b[39m\u001b[32m338\u001b[39m weights, factors = \u001b[43minitialize_cp\u001b[49m\u001b[43m(\u001b[49m\n\u001b[32m    339\u001b[39m \u001b[43m    \u001b[49m\u001b[43mtensor\u001b[49m\u001b[43m,\u001b[49m\n\u001b[32m    340\u001b[39m \u001b[43m    \u001b[49m\u001b[43mrank\u001b[49m\u001b[43m,\u001b[49m\n\u001b[32m    341\u001b[39m \u001b[43m    \u001b[49m\u001b[43minit\u001b[49m\u001b[43m=\u001b[49m\u001b[43minit\u001b[49m\u001b[43m,\u001b[49m\n\u001b[32m    342\u001b[39m \u001b[43m    \u001b[49m\u001b[43msvd\u001b[49m\u001b[43m=\u001b[49m\u001b[43msvd\u001b[49m\u001b[43m,\u001b[49m\n\u001b[32m    343\u001b[39m \u001b[43m    \u001b[49m\u001b[43mrandom_state\u001b[49m\u001b[43m=\u001b[49m\u001b[43mrandom_state\u001b[49m\u001b[43m,\u001b[49m\n\u001b[32m    344\u001b[39m \u001b[43m    \u001b[49m\u001b[43mnormalize_factors\u001b[49m\u001b[43m=\u001b[49m\u001b[43mnormalize_factors\u001b[49m\u001b[43m,\u001b[49m\n\u001b[32m    345\u001b[39m \u001b[43m    \u001b[49m\u001b[43mmask\u001b[49m\u001b[43m=\u001b[49m\u001b[43mmask\u001b[49m\u001b[43m,\u001b[49m\n\u001b[32m    346\u001b[39m \u001b[43m    \u001b[49m\u001b[43msvd_mask_repeats\u001b[49m\u001b[43m=\u001b[49m\u001b[43msvd_mask_repeats\u001b[49m\u001b[43m,\u001b[49m\n\u001b[32m    347\u001b[39m \u001b[43m\u001b[49m\u001b[43m)\u001b[49m\n\u001b[32m    349\u001b[39m rec_errors = []\n\u001b[32m    350\u001b[39m norm_tensor = tl.norm(tensor, \u001b[32m2\u001b[39m)\n",
      "\u001b[36mFile \u001b[39m\u001b[32m/opt/homebrew/Caskroom/miniconda/base/envs/amda/lib/python3.12/site-packages/tensorly/decomposition/_cp.py:76\u001b[39m, in \u001b[36minitialize_cp\u001b[39m\u001b[34m(tensor, rank, init, svd, non_negative, random_state, normalize_factors, mask, svd_mask_repeats)\u001b[39m\n\u001b[32m     74\u001b[39m \u001b[38;5;28;01mfor\u001b[39;00m mode \u001b[38;5;129;01min\u001b[39;00m \u001b[38;5;28mrange\u001b[39m(tl.ndim(tensor)):\n\u001b[32m     75\u001b[39m     mask_unfold = \u001b[38;5;28;01mNone\u001b[39;00m \u001b[38;5;28;01mif\u001b[39;00m mask \u001b[38;5;129;01mis\u001b[39;00m \u001b[38;5;28;01mNone\u001b[39;00m \u001b[38;5;28;01melse\u001b[39;00m unfold(mask, mode)\n\u001b[32m---> \u001b[39m\u001b[32m76\u001b[39m     U, S, _ = \u001b[43msvd_interface\u001b[49m\u001b[43m(\u001b[49m\n\u001b[32m     77\u001b[39m \u001b[43m        \u001b[49m\u001b[43munfold\u001b[49m\u001b[43m(\u001b[49m\u001b[43mtensor\u001b[49m\u001b[43m,\u001b[49m\u001b[43m \u001b[49m\u001b[43mmode\u001b[49m\u001b[43m)\u001b[49m\u001b[43m,\u001b[49m\n\u001b[32m     78\u001b[39m \u001b[43m        \u001b[49m\u001b[43mn_eigenvecs\u001b[49m\u001b[43m=\u001b[49m\u001b[43mrank\u001b[49m\u001b[43m,\u001b[49m\n\u001b[32m     79\u001b[39m \u001b[43m        \u001b[49m\u001b[43mmethod\u001b[49m\u001b[43m=\u001b[49m\u001b[43msvd\u001b[49m\u001b[43m,\u001b[49m\n\u001b[32m     80\u001b[39m \u001b[43m        \u001b[49m\u001b[43mnon_negative\u001b[49m\u001b[43m=\u001b[49m\u001b[43mnon_negative\u001b[49m\u001b[43m,\u001b[49m\n\u001b[32m     81\u001b[39m \u001b[43m        \u001b[49m\u001b[43mmask\u001b[49m\u001b[43m=\u001b[49m\u001b[43mmask_unfold\u001b[49m\u001b[43m,\u001b[49m\n\u001b[32m     82\u001b[39m \u001b[43m        \u001b[49m\u001b[43mn_iter_mask_imputation\u001b[49m\u001b[43m=\u001b[49m\u001b[43msvd_mask_repeats\u001b[49m\u001b[43m,\u001b[49m\n\u001b[32m     83\u001b[39m \u001b[43m    \u001b[49m\u001b[43m)\u001b[49m\n\u001b[32m     85\u001b[39m     \u001b[38;5;66;03m# Put SVD initialization on the same scaling as the tensor in case normalize_factors=False\u001b[39;00m\n\u001b[32m     86\u001b[39m     \u001b[38;5;28;01mif\u001b[39;00m mode == \u001b[32m0\u001b[39m:\n",
      "\u001b[36mFile \u001b[39m\u001b[32m/opt/homebrew/Caskroom/miniconda/base/envs/amda/lib/python3.12/site-packages/tensorly/tenalg/svd.py:427\u001b[39m, in \u001b[36msvd_interface\u001b[39m\u001b[34m(matrix, method, n_eigenvecs, flip_sign, u_based_flip_sign, non_negative, mask, n_iter_mask_imputation, **kwargs)\u001b[39m\n\u001b[32m    422\u001b[39m \u001b[38;5;28;01melse\u001b[39;00m:\n\u001b[32m    423\u001b[39m     \u001b[38;5;28;01mraise\u001b[39;00m \u001b[38;5;167;01mValueError\u001b[39;00m(\n\u001b[32m    424\u001b[39m         \u001b[33mf\u001b[39m\u001b[33m\"\u001b[39m\u001b[33mGot svd=\u001b[39m\u001b[38;5;132;01m{\u001b[39;00mmethod\u001b[38;5;132;01m}\u001b[39;00m\u001b[33m. However, the possible choices are \u001b[39m\u001b[38;5;132;01m{\u001b[39;00mSVD_FUNS\u001b[38;5;132;01m}\u001b[39;00m\u001b[33m or to pass a callable.\u001b[39m\u001b[33m\"\u001b[39m\n\u001b[32m    425\u001b[39m     )\n\u001b[32m--> \u001b[39m\u001b[32m427\u001b[39m U, S, V = \u001b[43msvd_fun\u001b[49m\u001b[43m(\u001b[49m\u001b[43mmatrix\u001b[49m\u001b[43m,\u001b[49m\u001b[43m \u001b[49m\u001b[43mn_eigenvecs\u001b[49m\u001b[43m=\u001b[49m\u001b[43mn_eigenvecs\u001b[49m\u001b[43m,\u001b[49m\u001b[43m \u001b[49m\u001b[43m*\u001b[49m\u001b[43m*\u001b[49m\u001b[43mkwargs\u001b[49m\u001b[43m)\u001b[49m\n\u001b[32m    429\u001b[39m \u001b[38;5;28;01mif\u001b[39;00m mask \u001b[38;5;129;01mis\u001b[39;00m \u001b[38;5;129;01mnot\u001b[39;00m \u001b[38;5;28;01mNone\u001b[39;00m \u001b[38;5;129;01mand\u001b[39;00m n_eigenvecs \u001b[38;5;129;01mis\u001b[39;00m \u001b[38;5;129;01mnot\u001b[39;00m \u001b[38;5;28;01mNone\u001b[39;00m:\n\u001b[32m    430\u001b[39m     \u001b[38;5;28;01mfor\u001b[39;00m _ \u001b[38;5;129;01min\u001b[39;00m \u001b[38;5;28mrange\u001b[39m(n_iter_mask_imputation):\n\u001b[32m    431\u001b[39m         \u001b[38;5;66;03m# Workaround to avoid needing fill_diagonal\u001b[39;00m\n",
      "\u001b[36mFile \u001b[39m\u001b[32m/opt/homebrew/Caskroom/miniconda/base/envs/amda/lib/python3.12/site-packages/tensorly/tenalg/svd.py:232\u001b[39m, in \u001b[36mtruncated_svd\u001b[39m\u001b[34m(matrix, n_eigenvecs, **kwargs)\u001b[39m\n\u001b[32m    230\u001b[39m n_eigenvecs, min_dim, _ = svd_checks(matrix, n_eigenvecs=n_eigenvecs)\n\u001b[32m    231\u001b[39m full_matrices = \u001b[38;5;28;01mTrue\u001b[39;00m \u001b[38;5;28;01mif\u001b[39;00m n_eigenvecs > min_dim \u001b[38;5;28;01melse\u001b[39;00m \u001b[38;5;28;01mFalse\u001b[39;00m\n\u001b[32m--> \u001b[39m\u001b[32m232\u001b[39m U, S, V = \u001b[43mtl\u001b[49m\u001b[43m.\u001b[49m\u001b[43msvd\u001b[49m\u001b[43m(\u001b[49m\u001b[43mmatrix\u001b[49m\u001b[43m,\u001b[49m\u001b[43m \u001b[49m\u001b[43mfull_matrices\u001b[49m\u001b[43m=\u001b[49m\u001b[43mfull_matrices\u001b[49m\u001b[43m)\u001b[49m\n\u001b[32m    233\u001b[39m \u001b[38;5;28;01mreturn\u001b[39;00m U[:, :n_eigenvecs], S[:n_eigenvecs], V[:n_eigenvecs, :]\n",
      "\u001b[36mFile \u001b[39m\u001b[32m/opt/homebrew/Caskroom/miniconda/base/envs/amda/lib/python3.12/site-packages/tensorly/backend/__init__.py:202\u001b[39m, in \u001b[36mBackendManager.dispatch_backend_method.<locals>.wrapped_backend_method\u001b[39m\u001b[34m(*args, **kwargs)\u001b[39m\n\u001b[32m    198\u001b[39m \u001b[38;5;28;01mdef\u001b[39;00m\u001b[38;5;250m \u001b[39m\u001b[34mwrapped_backend_method\u001b[39m(*args, **kwargs):\n\u001b[32m    199\u001b[39m \u001b[38;5;250m    \u001b[39m\u001b[33;03m\"\"\"A dynamically dispatched method\u001b[39;00m\n\u001b[32m    200\u001b[39m \n\u001b[32m    201\u001b[39m \u001b[33;03m    Returns the queried method from the currently set backend\"\"\"\u001b[39;00m\n\u001b[32m--> \u001b[39m\u001b[32m202\u001b[39m     \u001b[38;5;28;01mreturn\u001b[39;00m \u001b[38;5;28;43mgetattr\u001b[39;49m\u001b[43m(\u001b[49m\n\u001b[32m    203\u001b[39m \u001b[43m        \u001b[49m\u001b[38;5;28;43mcls\u001b[39;49m\u001b[43m.\u001b[49m\u001b[43m_THREAD_LOCAL_DATA\u001b[49m\u001b[43m.\u001b[49m\u001b[34;43m__dict__\u001b[39;49m\u001b[43m.\u001b[49m\u001b[43mget\u001b[49m\u001b[43m(\u001b[49m\u001b[33;43m\"\u001b[39;49m\u001b[33;43mbackend\u001b[39;49m\u001b[33;43m\"\u001b[39;49m\u001b[43m,\u001b[49m\u001b[43m \u001b[49m\u001b[38;5;28;43mcls\u001b[39;49m\u001b[43m.\u001b[49m\u001b[43m_backend\u001b[49m\u001b[43m)\u001b[49m\u001b[43m,\u001b[49m\u001b[43m \u001b[49m\u001b[43mname\u001b[49m\n\u001b[32m    204\u001b[39m \u001b[43m    \u001b[49m\u001b[43m)\u001b[49m\u001b[43m(\u001b[49m\u001b[43m*\u001b[49m\u001b[43margs\u001b[49m\u001b[43m,\u001b[49m\u001b[43m \u001b[49m\u001b[43m*\u001b[49m\u001b[43m*\u001b[49m\u001b[43mkwargs\u001b[49m\u001b[43m)\u001b[49m\n",
      "\u001b[36mFile \u001b[39m\u001b[32m/opt/homebrew/Caskroom/miniconda/base/envs/amda/lib/python3.12/site-packages/numpy/linalg/_linalg.py:1812\u001b[39m, in \u001b[36msvd\u001b[39m\u001b[34m(a, full_matrices, compute_uv, hermitian)\u001b[39m\n\u001b[32m   1808\u001b[39m signature = \u001b[33m'\u001b[39m\u001b[33mD->DdD\u001b[39m\u001b[33m'\u001b[39m \u001b[38;5;28;01mif\u001b[39;00m isComplexType(t) \u001b[38;5;28;01melse\u001b[39;00m \u001b[33m'\u001b[39m\u001b[33md->ddd\u001b[39m\u001b[33m'\u001b[39m\n\u001b[32m   1809\u001b[39m \u001b[38;5;28;01mwith\u001b[39;00m errstate(call=_raise_linalgerror_svd_nonconvergence,\n\u001b[32m   1810\u001b[39m               invalid=\u001b[33m'\u001b[39m\u001b[33mcall\u001b[39m\u001b[33m'\u001b[39m, over=\u001b[33m'\u001b[39m\u001b[33mignore\u001b[39m\u001b[33m'\u001b[39m, divide=\u001b[33m'\u001b[39m\u001b[33mignore\u001b[39m\u001b[33m'\u001b[39m,\n\u001b[32m   1811\u001b[39m               under=\u001b[33m'\u001b[39m\u001b[33mignore\u001b[39m\u001b[33m'\u001b[39m):\n\u001b[32m-> \u001b[39m\u001b[32m1812\u001b[39m     u, s, vh = \u001b[43mgufunc\u001b[49m\u001b[43m(\u001b[49m\u001b[43ma\u001b[49m\u001b[43m,\u001b[49m\u001b[43m \u001b[49m\u001b[43msignature\u001b[49m\u001b[43m=\u001b[49m\u001b[43msignature\u001b[49m\u001b[43m)\u001b[49m\n\u001b[32m   1813\u001b[39m u = u.astype(result_t, copy=\u001b[38;5;28;01mFalse\u001b[39;00m)\n\u001b[32m   1814\u001b[39m s = s.astype(_realType(result_t), copy=\u001b[38;5;28;01mFalse\u001b[39;00m)\n",
      "\u001b[36mFile \u001b[39m\u001b[32m/opt/homebrew/Caskroom/miniconda/base/envs/amda/lib/python3.12/site-packages/numpy/linalg/_linalg.py:113\u001b[39m, in \u001b[36m_raise_linalgerror_svd_nonconvergence\u001b[39m\u001b[34m(err, flag)\u001b[39m\n\u001b[32m    112\u001b[39m \u001b[38;5;28;01mdef\u001b[39;00m\u001b[38;5;250m \u001b[39m\u001b[34m_raise_linalgerror_svd_nonconvergence\u001b[39m(err, flag):\n\u001b[32m--> \u001b[39m\u001b[32m113\u001b[39m     \u001b[38;5;28;01mraise\u001b[39;00m LinAlgError(\u001b[33m\"\u001b[39m\u001b[33mSVD did not converge\u001b[39m\u001b[33m\"\u001b[39m)\n",
      "\u001b[31mLinAlgError\u001b[39m: SVD did not converge"
     ]
    }
   ],
   "source": [
    "SEED = 42\n",
    "np.random.seed(SEED)\n",
    "\n",
    "CP_RANK_NMR = 3\n",
    "CP_RANK_EEM = 3\n",
    "PCA_RANK_LCMS = 5\n",
    "\n",
    "\n",
    "# Factorisation CP pour NMR et EEM\n",
    "def cp_scores(tensor, rank):\n",
    "    \"\"\"\n",
    "    Applique PARAFAC à un tenseur 3D et retourne les scores des individus (mode 0).\n",
    "    \"\"\"\n",
    "    print(f\"Tenseur shape avant CP: {tensor.shape}\")\n",
    "\n",
    "    # Check que le mode 0 = individus (n = 28)\n",
    "    if tensor.shape[0] != 28:\n",
    "        raise ValueError(\n",
    "            \"Le mode 0 n'est pas celui des individus. Tenseur mal orienté.\"\n",
    "        )\n",
    "\n",
    "    # PARAFAC\n",
    "    # factors = parafac(tensor, rank=rank, init='svd', random_state=SEED)\n",
    "    factors = parafac(\n",
    "        tensor, rank=rank, n_iter_max=2000, tol=1e-6, init=\"svd\", random_state=SEED\n",
    "    )\n",
    "    for i, f in enumerate(factors):\n",
    "        print(f\"{i}. Shape du facteur {i} : {f[0].shape}\")\n",
    "\n",
    "    return tl.to_numpy(factors[1][0])\n",
    "\n",
    "\n",
    "print(\"-\" * 20, \"Performing CP decomposition\", \"-\" * 20)\n",
    "\n",
    "scores_nmr = cp_scores(X_nmr, CP_RANK_NMR)\n",
    "scores_eem = cp_scores(X_eem, CP_RANK_EEM)\n",
    "\n",
    "#  PCA LCMS\n",
    "pca_lcms = PCA(n_components=PCA_RANK_LCMS, random_state=SEED)\n",
    "scores_lcms = pca_lcms.fit_transform(X_lcms)\n",
    "\n",
    "# Fusion\n",
    "if scores_nmr.shape[0] != scores_lcms.shape[0]:\n",
    "    scores_nmr = scores_nmr.T\n",
    "if scores_eem.shape[0] != scores_lcms.shape[0]:\n",
    "    scores_eem = scores_eem.T\n",
    "\n",
    "print(\"-\" * 50)\n",
    "print(f\"Shape scores NMR: {scores_nmr.shape}\")\n",
    "print(f\"Shape scores EEM: {scores_eem.shape}\")\n",
    "print(f\"Shape scores LCMS: {scores_lcms.shape}\")\n",
    "X_fused = np.hstack([scores_nmr, scores_eem, scores_lcms])\n",
    "print(f\"Shape finale des features fusionnés: {X_fused.shape}\")\n",
    "\n",
    "\n",
    "df_fused = pd.DataFrame(\n",
    "    data=X_fused,\n",
    "    columns=[f\"NMR_{i}\" for i in range(scores_nmr.shape[1])]\n",
    "    + [f\"EEM_{i}\" for i in range(scores_eem.shape[1])]\n",
    "    + [f\"LCMS_{i}\" for i in range(scores_lcms.shape[1])],\n",
    ")\n",
    "df_fused.head(3)"
   ]
  },
  {
   "cell_type": "code",
   "execution_count": 19,
   "metadata": {},
   "outputs": [
    {
     "data": {
      "text/plain": [
       "array([[nan, nan],\n",
       "       [nan, nan],\n",
       "       [nan, nan],\n",
       "       [nan, nan],\n",
       "       [nan, nan],\n",
       "       [nan, nan],\n",
       "       [nan, nan],\n",
       "       [nan, nan],\n",
       "       [nan, nan],\n",
       "       [nan, nan],\n",
       "       [nan, nan],\n",
       "       [nan, nan],\n",
       "       [nan, nan],\n",
       "       [nan, nan],\n",
       "       [nan, nan],\n",
       "       [nan, nan],\n",
       "       [nan, nan],\n",
       "       [nan, nan],\n",
       "       [nan, nan],\n",
       "       [nan, nan],\n",
       "       [nan, nan],\n",
       "       [nan, nan],\n",
       "       [nan, nan],\n",
       "       [nan, nan],\n",
       "       [nan, nan],\n",
       "       [nan, nan],\n",
       "       [nan, nan],\n",
       "       [nan, nan]])"
      ]
     },
     "execution_count": 19,
     "metadata": {},
     "output_type": "execute_result"
    }
   ],
   "source": [
    "scores_eem"
   ]
  },
  {
   "cell_type": "code",
   "execution_count": null,
   "metadata": {},
   "outputs": [],
   "source": [
    "concentrations = pd.read_csv(\"Acar_data/concentrations.txt\", sep=r\"\\s+\", index_col=0)\n",
    "y = concentrations.values\n",
    "print(f\"Shape des concentrations (y): {y.shape}\")\n",
    "\n",
    "# Standardisation et régression Ridge\n",
    "scaler = StandardScaler()\n",
    "X_scaled = scaler.fit_transform(X_fused)\n",
    "\n",
    "alphas = np.logspace(-3, 3, 100)\n",
    "model = RidgeCV(alphas=alphas, cv=5)\n",
    "\n",
    "# Validation croisée\n",
    "scores = cross_val_score(model, X_scaled, y, cv=5, scoring=\"r2\")\n",
    "print(f\"R² moyen en validation croisée : {scores.mean():.4f}\")"
   ]
  }
 ],
 "metadata": {
  "kernelspec": {
   "display_name": "amda",
   "language": "python",
   "name": "python3"
  },
  "language_info": {
   "codemirror_mode": {
    "name": "ipython",
    "version": 3
   },
   "file_extension": ".py",
   "mimetype": "text/x-python",
   "name": "python",
   "nbconvert_exporter": "python",
   "pygments_lexer": "ipython3",
   "version": "3.12.9"
  }
 },
 "nbformat": 4,
 "nbformat_minor": 2
}
