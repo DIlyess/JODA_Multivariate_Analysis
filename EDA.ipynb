{
 "cells": [
  {
   "cell_type": "markdown",
   "metadata": {
    "vscode": {
     "languageId": "plaintext"
    }
   },
   "source": [
    "# Import Lib & Data\n"
   ]
  },
  {
   "cell_type": "code",
   "execution_count": null,
   "metadata": {},
   "outputs": [],
   "source": [
    "import scipy.io as sio\n",
    "import pandas as pd\n",
    "\n",
    "df_mat = sio.loadmat(\"Acar_data/EEM_NMR_LCMS.mat\")\n",
    "df_cts = pd.read_csv(\"Acar_data/concentrations.txt\", delim_whitespace=True)"
   ]
  },
  {
   "cell_type": "code",
   "execution_count": 64,
   "metadata": {},
   "outputs": [
    {
     "data": {
      "text/html": [
       "<div>\n",
       "<style scoped>\n",
       "    .dataframe tbody tr th:only-of-type {\n",
       "        vertical-align: middle;\n",
       "    }\n",
       "\n",
       "    .dataframe tbody tr th {\n",
       "        vertical-align: top;\n",
       "    }\n",
       "\n",
       "    .dataframe thead th {\n",
       "        text-align: right;\n",
       "    }\n",
       "</style>\n",
       "<table border=\"1\" class=\"dataframe\">\n",
       "  <thead>\n",
       "    <tr style=\"text-align: right;\">\n",
       "      <th></th>\n",
       "      <th>Val-Tyr-Val</th>\n",
       "      <th>Trp-Gly</th>\n",
       "      <th>Phe</th>\n",
       "      <th>Malto</th>\n",
       "      <th>Propanol</th>\n",
       "    </tr>\n",
       "  </thead>\n",
       "  <tbody>\n",
       "    <tr>\n",
       "      <th>1</th>\n",
       "      <td>5.0</td>\n",
       "      <td>0.0</td>\n",
       "      <td>0.0</td>\n",
       "      <td>0.0</td>\n",
       "      <td>0.0</td>\n",
       "    </tr>\n",
       "    <tr>\n",
       "      <th>2</th>\n",
       "      <td>0.0</td>\n",
       "      <td>5.0</td>\n",
       "      <td>0.0</td>\n",
       "      <td>0.0</td>\n",
       "      <td>0.0</td>\n",
       "    </tr>\n",
       "    <tr>\n",
       "      <th>3</th>\n",
       "      <td>0.0</td>\n",
       "      <td>0.0</td>\n",
       "      <td>5.0</td>\n",
       "      <td>0.0</td>\n",
       "      <td>0.0</td>\n",
       "    </tr>\n",
       "  </tbody>\n",
       "</table>\n",
       "</div>"
      ],
      "text/plain": [
       "   Val-Tyr-Val  Trp-Gly  Phe  Malto  Propanol\n",
       "1          5.0      0.0  0.0    0.0       0.0\n",
       "2          0.0      5.0  0.0    0.0       0.0\n",
       "3          0.0      0.0  5.0    0.0       0.0"
      ]
     },
     "execution_count": 64,
     "metadata": {},
     "output_type": "execute_result"
    }
   ],
   "source": [
    "df_cts.head(3)"
   ]
  },
  {
   "cell_type": "code",
   "execution_count": null,
   "metadata": {},
   "outputs": [
    {
     "name": "stdout",
     "output_type": "stream",
     "text": [
      "dict_keys(['__header__', '__version__', '__globals__', 'Y', 'X', 'Z'])\n",
      "('name', 'type', 'author', 'date', 'moddate', 'imagesize', 'imagemode', 'data', 'label', 'axisscale', 'imageaxisscale', 'title', 'class', 'include', 'classlookup', 'axistype', 'imageaxistype', 'description', 'userdata', 'datasetversion', 'history', 'uniqueid')\n"
     ]
    }
   ],
   "source": [
    "print(df_mat.keys())\n",
    "print(df_mat[\"X\"].dtype.names)"
   ]
  },
  {
   "cell_type": "code",
   "execution_count": null,
   "metadata": {},
   "outputs": [
    {
     "name": "stdout",
     "output_type": "stream",
     "text": [
      "Extracted EEM data with shape (28, 251, 21)\n",
      "Extracted 3-way NMR data with shape (28, 13324, 8)\n",
      "Extracted LCMS data with shape (28, 168)\n"
     ]
    }
   ],
   "source": [
    "data_dic = {}\n",
    "dimensions = [\"X\", \"Y\", \"Z\"]\n",
    "for dim in dimensions:\n",
    "    mesurement_technique = df_mat[dim][\"name\"][0][0][0]\n",
    "    data = df_mat[dim][\"data\"][0][0]\n",
    "    data_dic[mesurement_technique] = data\n",
    "    print(f\"Extracted {mesurement_technique} data with shape {data.shape}\")"
   ]
  },
  {
   "cell_type": "code",
   "execution_count": 1,
   "metadata": {},
   "outputs": [
    {
     "name": "stdout",
     "output_type": "stream",
     "text": [
      "✔️ Extracted EEM data with shape (28, 251, 21)\n",
      "✔️ Extracted 3-way NMR data with shape (28, 13324, 8)\n",
      "✔️ Extracted LCMS data with shape (28, 168)\n",
      "Shape scores NMR: (3,)\n",
      "Shape scores EEM: (2,)\n",
      "Shape scores LCMS: (28, 5)\n"
     ]
    },
    {
     "ename": "ValueError",
     "evalue": "all the input arrays must have same number of dimensions, but the array at index 0 has 1 dimension(s) and the array at index 2 has 2 dimension(s)",
     "output_type": "error",
     "traceback": [
      "\u001b[31m---------------------------------------------------------------------------\u001b[39m",
      "\u001b[31mValueError\u001b[39m                                Traceback (most recent call last)",
      "\u001b[36mCell\u001b[39m\u001b[36m \u001b[39m\u001b[32mIn[1]\u001b[39m\u001b[32m, line 71\u001b[39m\n\u001b[32m     69\u001b[39m \u001b[38;5;28mprint\u001b[39m(\u001b[33mf\u001b[39m\u001b[33m\"\u001b[39m\u001b[33mShape scores EEM: \u001b[39m\u001b[38;5;132;01m{\u001b[39;00mscores_eem.shape\u001b[38;5;132;01m}\u001b[39;00m\u001b[33m\"\u001b[39m)\n\u001b[32m     70\u001b[39m \u001b[38;5;28mprint\u001b[39m(\u001b[33mf\u001b[39m\u001b[33m\"\u001b[39m\u001b[33mShape scores LCMS: \u001b[39m\u001b[38;5;132;01m{\u001b[39;00mscores_lcms.shape\u001b[38;5;132;01m}\u001b[39;00m\u001b[33m\"\u001b[39m)\n\u001b[32m---> \u001b[39m\u001b[32m71\u001b[39m X_fused = \u001b[43mnp\u001b[49m\u001b[43m.\u001b[49m\u001b[43mhstack\u001b[49m\u001b[43m(\u001b[49m\u001b[43m[\u001b[49m\u001b[43mscores_nmr\u001b[49m\u001b[43m,\u001b[49m\u001b[43m \u001b[49m\u001b[43mscores_eem\u001b[49m\u001b[43m,\u001b[49m\u001b[43m \u001b[49m\u001b[43mscores_lcms\u001b[49m\u001b[43m]\u001b[49m\u001b[43m)\u001b[49m\n\u001b[32m     72\u001b[39m \u001b[38;5;28mprint\u001b[39m(\u001b[33mf\u001b[39m\u001b[33m\"\u001b[39m\u001b[33mShape finale des features fusionnés: \u001b[39m\u001b[38;5;132;01m{\u001b[39;00mX_fused.shape\u001b[38;5;132;01m}\u001b[39;00m\u001b[33m\"\u001b[39m)\n\u001b[32m     75\u001b[39m concentrations = pd.read_csv(\u001b[33m\"\u001b[39m\u001b[33mAcar_data/concentrations.txt\u001b[39m\u001b[33m\"\u001b[39m, sep=\u001b[33mr\u001b[39m\u001b[33m\"\u001b[39m\u001b[33m\\\u001b[39m\u001b[33ms+\u001b[39m\u001b[33m\"\u001b[39m, index_col=\u001b[32m0\u001b[39m)\n",
      "\u001b[36mFile \u001b[39m\u001b[32mc:\\Users\\victo\\Documents\\AMDA\\JODA_Multivariate_Analysis\\env\\Lib\\site-packages\\numpy\\_core\\shape_base.py:365\u001b[39m, in \u001b[36mhstack\u001b[39m\u001b[34m(tup, dtype, casting)\u001b[39m\n\u001b[32m    363\u001b[39m \u001b[38;5;66;03m# As a special case, dimension 0 of 1-dimensional arrays is \"horizontal\"\u001b[39;00m\n\u001b[32m    364\u001b[39m \u001b[38;5;28;01mif\u001b[39;00m arrs \u001b[38;5;129;01mand\u001b[39;00m arrs[\u001b[32m0\u001b[39m].ndim == \u001b[32m1\u001b[39m:\n\u001b[32m--> \u001b[39m\u001b[32m365\u001b[39m     \u001b[38;5;28;01mreturn\u001b[39;00m \u001b[43m_nx\u001b[49m\u001b[43m.\u001b[49m\u001b[43mconcatenate\u001b[49m\u001b[43m(\u001b[49m\u001b[43marrs\u001b[49m\u001b[43m,\u001b[49m\u001b[43m \u001b[49m\u001b[32;43m0\u001b[39;49m\u001b[43m,\u001b[49m\u001b[43m \u001b[49m\u001b[43mdtype\u001b[49m\u001b[43m=\u001b[49m\u001b[43mdtype\u001b[49m\u001b[43m,\u001b[49m\u001b[43m \u001b[49m\u001b[43mcasting\u001b[49m\u001b[43m=\u001b[49m\u001b[43mcasting\u001b[49m\u001b[43m)\u001b[49m\n\u001b[32m    366\u001b[39m \u001b[38;5;28;01melse\u001b[39;00m:\n\u001b[32m    367\u001b[39m     \u001b[38;5;28;01mreturn\u001b[39;00m _nx.concatenate(arrs, \u001b[32m1\u001b[39m, dtype=dtype, casting=casting)\n",
      "\u001b[31mValueError\u001b[39m: all the input arrays must have same number of dimensions, but the array at index 0 has 1 dimension(s) and the array at index 2 has 2 dimension(s)"
     ]
    }
   ],
   "source": [
    "import numpy as np\n",
    "import pandas as pd\n",
    "import scipy.io as sio\n",
    "import tensorly as tl\n",
    "from tensorly.decomposition import parafac\n",
    "from sklearn.decomposition import PCA\n",
    "from sklearn.preprocessing import StandardScaler\n",
    "from sklearn.linear_model import RidgeCV\n",
    "from sklearn.model_selection import cross_val_score\n",
    "\n",
    "\n",
    "SEED = 42\n",
    "np.random.seed(SEED)\n",
    "\n",
    "\n",
    "CP_RANK_NMR = 3\n",
    "CP_RANK_EEM = 2\n",
    "PCA_RANK_LCMS = 5\n",
    "\n",
    "# Data\n",
    "df_mat = sio.loadmat(\"Acar_data/EEM_NMR_LCMS.mat\")\n",
    "data_dic = {}\n",
    "\n",
    "dimensions = [\"X\", \"Y\", \"Z\"]\n",
    "for dim in dimensions:\n",
    "    mesurement_technique = df_mat[dim][\"name\"][0][0][0]\n",
    "    data = df_mat[dim][\"data\"][0][0]\n",
    "    data_dic[mesurement_technique] = data\n",
    "    print(f\"Extracted {mesurement_technique} data with shape {data.shape}\")\n",
    "\n",
    "# ind 27\n",
    "for key in data_dic:\n",
    "    if data_dic[key].shape[0] == 29:\n",
    "        data_dic[key] = np.delete(data_dic[key], 26, axis=0)\n",
    "        print(f\"Removed sample 27 from {key}, new shape: {data_dic[key].shape}\")\n",
    "\n",
    "# Factorisation CP pour NMR et EEM\n",
    "def cp_scores(tensor, rank):\n",
    "    \"\"\"\n",
    "    Applique PARAFAC à un tenseur 3D et retourne les scores des individus.\n",
    "    \"\"\"\n",
    "    # S'assurer que le mode 0 est bien les individus (n=28)\n",
    "    if tensor.shape[0] != 28:\n",
    "        tensor = tl.transpose(tensor, (2, 1, 0)) if tensor.shape[2] == 28 else tl.transpose(tensor, (1, 2, 0))\n",
    "    \n",
    "    # factors = parafac(tensor, rank=rank, init='svd', random_state=SEED)\n",
    "    factors = parafac(tensor, rank=rank, n_iter_max=200, tol=1e-6, init='random', random_state=SEED)\n",
    "    return tl.to_numpy(factors[0])  # mode 0 = individus\n",
    "\n",
    "\n",
    "X_eem = data_dic[\"EEM\"]\n",
    "X_nmr = data_dic[\"3-way NMR\"]\n",
    "X_lcms = data_dic[\"LCMS\"]\n",
    "\n",
    "scores_nmr = cp_scores(X_nmr, CP_RANK_NMR)\n",
    "scores_eem = cp_scores(X_eem, CP_RANK_EEM)\n",
    "\n",
    "#  PCA LCMS \n",
    "pca_lcms = PCA(n_components=PCA_RANK_LCMS, random_state=SEED)\n",
    "scores_lcms = pca_lcms.fit_transform(X_lcms)\n",
    "\n",
    "# Fusion\n",
    "if scores_nmr.shape[0] != scores_lcms.shape[0]:\n",
    "    scores_nmr = scores_nmr.T\n",
    "if scores_eem.shape[0] != scores_lcms.shape[0]:\n",
    "    scores_eem = scores_eem.T\n",
    "\n",
    "print(f\"Shape scores NMR: {scores_nmr.shape}\")\n",
    "print(f\"Shape scores EEM: {scores_eem.shape}\")\n",
    "print(f\"Shape scores LCMS: {scores_lcms.shape}\")\n",
    "X_fused = np.hstack([scores_nmr, scores_eem, scores_lcms])\n",
    "print(f\"Shape finale des features fusionnés: {X_fused.shape}\")\n",
    "\n",
    "\n",
    "concentrations = pd.read_csv(\"Acar_data/concentrations.txt\", sep=r\"\\s+\", index_col=0)\n",
    "concentrations = concentrations.drop(index=27)\n",
    "y = concentrations.values\n",
    "print(f\"Shape des concentrations (y): {y.shape}\")\n",
    "\n",
    "# Standardisation et régression Ridge\n",
    "scaler = StandardScaler()\n",
    "X_scaled = scaler.fit_transform(X_fused)\n",
    "\n",
    "alphas = np.logspace(-3, 3, 100)\n",
    "model = RidgeCV(alphas=alphas, cv=5)\n",
    "\n",
    "# Validation croisée\n",
    "scores = cross_val_score(model, X_scaled, y, cv=5, scoring=\"r2\")\n",
    "print(f\"R² moyen en validation croisée : {scores.mean():.4f}\")"
   ]
  }
 ],
 "metadata": {
  "kernelspec": {
   "display_name": "env",
   "language": "python",
   "name": "python3"
  },
  "language_info": {
   "codemirror_mode": {
    "name": "ipython",
    "version": 3
   },
   "file_extension": ".py",
   "mimetype": "text/x-python",
   "name": "python",
   "nbconvert_exporter": "python",
   "pygments_lexer": "ipython3",
   "version": "3.12.4"
  }
 },
 "nbformat": 4,
 "nbformat_minor": 2
}
