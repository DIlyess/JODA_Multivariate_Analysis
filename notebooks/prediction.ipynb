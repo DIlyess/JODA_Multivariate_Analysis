{
 "cells": [
  {
   "cell_type": "code",
   "execution_count": 3,
   "id": "9ccb8711",
   "metadata": {},
   "outputs": [],
   "source": [
    "import numpy as np\n",
    "import sys\n",
    "import pandas as pd\n",
    "import scipy.io as sio\n",
    "import seaborn as sns\n",
    "import tensorly as tl\n",
    "from tensorly.decomposition import parafac\n",
    "from sklearn.decomposition import PCA\n",
    "from sklearn.preprocessing import StandardScaler\n",
    "from sklearn.linear_model import RidgeCV\n",
    "from sklearn.model_selection import cross_val_score"
   ]
  },
  {
   "cell_type": "code",
   "execution_count": null,
   "id": "590decff",
   "metadata": {},
   "outputs": [],
   "source": [
    "sys.path.append(\"../\")\n",
    "from src.data_processing import DataProcessing"
   ]
  },
  {
   "cell_type": "code",
   "execution_count": 9,
   "id": "20c40762",
   "metadata": {},
   "outputs": [
    {
     "name": "stdout",
     "output_type": "stream",
     "text": [
      "Extracted EEM data with shape (28, 251, 21)\n",
      "Extracted 3-way NMR data with shape (28, 13324, 8)\n",
      "Extracted LCMS data with shape (28, 168)\n"
     ]
    },
    {
     "name": "stderr",
     "output_type": "stream",
     "text": [
      "/var/folders/55/brtsb88x4wz9n5kxdtldl3940000gn/T/ipykernel_93912/57480743.py:2: FutureWarning: The 'delim_whitespace' keyword in pd.read_csv is deprecated and will be removed in a future version. Use ``sep='\\s+'`` instead\n",
      "  df_cts = pd.read_csv(\"../Acar_data/concentrations.txt\", delim_whitespace=True)\n"
     ]
    }
   ],
   "source": [
    "df_mat = sio.loadmat(\"../Acar_data/EEM_NMR_LCMS.mat\")\n",
    "df_cts = pd.read_csv(\"../Acar_data/concentrations.txt\", delim_whitespace=True)\n",
    "\n",
    "dp = DataProcessing(df_mat, df_cts)\n",
    "X_eem, X_nmr, X_lcms = dp.get_processed_data()"
   ]
  },
  {
   "cell_type": "markdown",
   "id": "d28693c8",
   "metadata": {},
   "source": [
    "# PARAFAC\n"
   ]
  },
  {
   "cell_type": "code",
   "execution_count": null,
   "id": "ae1d6081",
   "metadata": {},
   "outputs": [
    {
     "name": "stdout",
     "output_type": "stream",
     "text": [
      "-------------------- Performing CP decomposition --------------------\n",
      "Tenseur shape avant CP: (28, 13324, 8)\n",
      "0. Shape du facteur 0 : ()\n",
      "1. Shape du facteur 1 : (28, 3)\n",
      "Tenseur shape avant CP: (28, 251, 21)\n",
      "0. Shape du facteur 0 : ()\n",
      "1. Shape du facteur 1 : (28, 3)\n",
      "--------------------------------------------------\n",
      "Shape scores NMR: (28, 3)\n",
      "Shape scores EEM: (28, 3)\n",
      "Shape scores LCMS: (28, 5)\n",
      "Shape finale des features fusionnés: (28, 11)\n"
     ]
    },
    {
     "data": {
      "text/html": [
       "<div>\n",
       "<style scoped>\n",
       "    .dataframe tbody tr th:only-of-type {\n",
       "        vertical-align: middle;\n",
       "    }\n",
       "\n",
       "    .dataframe tbody tr th {\n",
       "        vertical-align: top;\n",
       "    }\n",
       "\n",
       "    .dataframe thead th {\n",
       "        text-align: right;\n",
       "    }\n",
       "</style>\n",
       "<table border=\"1\" class=\"dataframe\">\n",
       "  <thead>\n",
       "    <tr style=\"text-align: right;\">\n",
       "      <th></th>\n",
       "      <th>NMR_0</th>\n",
       "      <th>NMR_1</th>\n",
       "      <th>NMR_2</th>\n",
       "      <th>EEM_0</th>\n",
       "      <th>EEM_1</th>\n",
       "      <th>EEM_2</th>\n",
       "      <th>LCMS_0</th>\n",
       "      <th>LCMS_1</th>\n",
       "      <th>LCMS_2</th>\n",
       "      <th>LCMS_3</th>\n",
       "      <th>LCMS_4</th>\n",
       "    </tr>\n",
       "  </thead>\n",
       "  <tbody>\n",
       "    <tr>\n",
       "      <th>0</th>\n",
       "      <td>2.771124e+06</td>\n",
       "      <td>1.123300e+06</td>\n",
       "      <td>614127.123690</td>\n",
       "      <td>638.250248</td>\n",
       "      <td>41554.856346</td>\n",
       "      <td>-326.491362</td>\n",
       "      <td>10235.584220</td>\n",
       "      <td>-7136.174505</td>\n",
       "      <td>-4643.342190</td>\n",
       "      <td>856.156766</td>\n",
       "      <td>-785.105793</td>\n",
       "    </tr>\n",
       "    <tr>\n",
       "      <th>1</th>\n",
       "      <td>-4.694768e+05</td>\n",
       "      <td>3.239290e+04</td>\n",
       "      <td>-164881.711496</td>\n",
       "      <td>40904.391632</td>\n",
       "      <td>-4972.918327</td>\n",
       "      <td>-1914.485786</td>\n",
       "      <td>-13954.243357</td>\n",
       "      <td>2954.078675</td>\n",
       "      <td>-6345.742206</td>\n",
       "      <td>-432.799853</td>\n",
       "      <td>-694.762541</td>\n",
       "    </tr>\n",
       "    <tr>\n",
       "      <th>2</th>\n",
       "      <td>2.266350e+05</td>\n",
       "      <td>4.227142e+05</td>\n",
       "      <td>-57268.222904</td>\n",
       "      <td>256.635381</td>\n",
       "      <td>4473.563479</td>\n",
       "      <td>89439.454508</td>\n",
       "      <td>-13407.111172</td>\n",
       "      <td>-819.118841</td>\n",
       "      <td>6149.323188</td>\n",
       "      <td>408.030989</td>\n",
       "      <td>-538.782346</td>\n",
       "    </tr>\n",
       "  </tbody>\n",
       "</table>\n",
       "</div>"
      ],
      "text/plain": [
       "          NMR_0         NMR_1          NMR_2         EEM_0         EEM_1  \\\n",
       "0  2.771124e+06  1.123300e+06  614127.123690    638.250248  41554.856346   \n",
       "1 -4.694768e+05  3.239290e+04 -164881.711496  40904.391632  -4972.918327   \n",
       "2  2.266350e+05  4.227142e+05  -57268.222904    256.635381   4473.563479   \n",
       "\n",
       "          EEM_2        LCMS_0       LCMS_1       LCMS_2      LCMS_3  \\\n",
       "0   -326.491362  10235.584220 -7136.174505 -4643.342190  856.156766   \n",
       "1  -1914.485786 -13954.243357  2954.078675 -6345.742206 -432.799853   \n",
       "2  89439.454508 -13407.111172  -819.118841  6149.323188  408.030989   \n",
       "\n",
       "       LCMS_4  \n",
       "0 -785.105793  \n",
       "1 -694.762541  \n",
       "2 -538.782346  "
      ]
     },
     "metadata": {},
     "output_type": "display_data"
    }
   ],
   "source": [
    "SEED = 42\n",
    "np.random.seed(SEED)\n",
    "\n",
    "CP_RANK_NMR = 3\n",
    "CP_RANK_EEM = 3\n",
    "PCA_RANK_LCMS = 5\n",
    "\n",
    "\n",
    "# Factorisation CP pour NMR et EEM\n",
    "def cp_scores(tensor, rank):\n",
    "    \"\"\"\n",
    "    Applique PARAFAC à un tenseur 3D et retourne les scores des individus (mode 0).\n",
    "    \"\"\"\n",
    "    print(f\"Tenseur shape avant CP: {tensor.shape}\")\n",
    "\n",
    "    # Check que le mode 0 = individus (n = 28)\n",
    "    if tensor.shape[0] != 28:\n",
    "        raise ValueError(\n",
    "            \"Le mode 0 n'est pas celui des individus. Tenseur mal orienté.\"\n",
    "        )\n",
    "\n",
    "    # PARAFAC\n",
    "    # factors = parafac(tensor, rank=rank, init='svd', random_state=SEED)\n",
    "    factors = parafac(\n",
    "        tensor, rank=rank, n_iter_max=2000, tol=1e-6, init=\"random\", random_state=SEED\n",
    "    )\n",
    "    for i, f in enumerate(factors):\n",
    "        print(f\"{i}. Shape du facteur {i} : {f[0].shape}\")\n",
    "\n",
    "    return tl.to_numpy(factors[1][0])\n",
    "\n",
    "\n",
    "print(\"-\" * 20, \"Performing CP decomposition\", \"-\" * 20)\n",
    "\n",
    "scores_nmr = cp_scores(X_nmr, CP_RANK_NMR)\n",
    "scores_eem = cp_scores(X_eem_imputed, CP_RANK_EEM)\n",
    "\n",
    "#  PCA LCMS\n",
    "pca_lcms = PCA(n_components=PCA_RANK_LCMS, random_state=SEED)\n",
    "scores_lcms = pca_lcms.fit_transform(X_lcms)\n",
    "\n",
    "# Fusion\n",
    "if scores_nmr.shape[0] != scores_lcms.shape[0]:\n",
    "    scores_nmr = scores_nmr.T\n",
    "if scores_eem.shape[0] != scores_lcms.shape[0]:\n",
    "    scores_eem = scores_eem.T\n",
    "\n",
    "print(\"-\" * 50)\n",
    "print(f\"Shape scores NMR: {scores_nmr.shape}\")\n",
    "print(f\"Shape scores EEM: {scores_eem.shape}\")\n",
    "print(f\"Shape scores LCMS: {scores_lcms.shape}\")\n",
    "X_fused = np.hstack([scores_nmr, scores_eem, scores_lcms])\n",
    "print(f\"Shape finale des features fusionnés: {X_fused.shape}\")\n",
    "\n",
    "\n",
    "df_fused = pd.DataFrame(\n",
    "    data=X_fused,\n",
    "    columns=[f\"NMR_{i}\" for i in range(scores_nmr.shape[1])]\n",
    "    + [f\"EEM_{i}\" for i in range(scores_eem.shape[1])]\n",
    "    + [f\"LCMS_{i}\" for i in range(scores_lcms.shape[1])],\n",
    ")\n",
    "df_fused.head(3)"
   ]
  },
  {
   "cell_type": "code",
   "execution_count": null,
   "id": "49554fc9",
   "metadata": {},
   "outputs": [
    {
     "name": "stdout",
     "output_type": "stream",
     "text": [
      "Shape des concentrations (y): (28, 5)\n",
      "R² moyen en validation croisée : 0.8554\n"
     ]
    }
   ],
   "source": [
    "concentrations = pd.read_csv(\"Acar_data/concentrations.txt\", sep=r\"\\s+\", index_col=0)\n",
    "y = concentrations.values\n",
    "print(f\"Shape des concentrations (y): {y.shape}\")\n",
    "\n",
    "# Standardisation et régression Ridge\n",
    "scaler = StandardScaler()\n",
    "X_scaled = scaler.fit_transform(X_fused)\n",
    "\n",
    "alphas = np.logspace(-3, 3, 100)\n",
    "model = RidgeCV(alphas=alphas, cv=5)\n",
    "\n",
    "# Validation croisée\n",
    "scores = cross_val_score(model, X_scaled, y, cv=5, scoring=\"r2\")\n",
    "print(f\"R² moyen en validation croisée : {scores.mean():.4f}\")"
   ]
  }
 ],
 "metadata": {
  "kernelspec": {
   "display_name": "amda",
   "language": "python",
   "name": "python3"
  },
  "language_info": {
   "codemirror_mode": {
    "name": "ipython",
    "version": 3
   },
   "file_extension": ".py",
   "mimetype": "text/x-python",
   "name": "python",
   "nbconvert_exporter": "python",
   "pygments_lexer": "ipython3",
   "version": "3.12.9"
  }
 },
 "nbformat": 4,
 "nbformat_minor": 5
}
