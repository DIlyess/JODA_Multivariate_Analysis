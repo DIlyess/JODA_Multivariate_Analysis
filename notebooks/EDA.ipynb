{
 "cells": [
  {
   "cell_type": "markdown",
   "metadata": {
    "vscode": {
     "languageId": "plaintext"
    }
   },
   "source": [
    "# Import Lib & Data\n"
   ]
  },
  {
   "cell_type": "code",
   "execution_count": null,
   "metadata": {},
   "outputs": [],
   "source": [
    "import numpy as np\n",
    "import pandas as pd\n",
    "import scipy.io as sio\n",
    "import seaborn as sns\n",
    "import tensorly as tl\n",
    "from tensorly.decomposition import parafac\n",
    "from sklearn.decomposition import PCA\n",
    "from sklearn.preprocessing import StandardScaler\n",
    "from sklearn.linear_model import RidgeCV\n",
    "from sklearn.model_selection import cross_val_score"
   ]
  },
  {
   "cell_type": "code",
   "execution_count": 5,
   "metadata": {},
   "outputs": [
    {
     "name": "stderr",
     "output_type": "stream",
     "text": [
      "/var/folders/55/brtsb88x4wz9n5kxdtldl3940000gn/T/ipykernel_93830/381926838.py:2: FutureWarning: The 'delim_whitespace' keyword in pd.read_csv is deprecated and will be removed in a future version. Use ``sep='\\s+'`` instead\n",
      "  df_cts = pd.read_csv(\"../Acar_data/concentrations.txt\", delim_whitespace=True)\n"
     ]
    }
   ],
   "source": [
    "df_mat = sio.loadmat(\"../Acar_data/EEM_NMR_LCMS.mat\")\n",
    "df_cts = pd.read_csv(\"../Acar_data/concentrations.txt\", delim_whitespace=True)"
   ]
  },
  {
   "cell_type": "code",
   "execution_count": 6,
   "metadata": {},
   "outputs": [
    {
     "data": {
      "text/html": [
       "<div>\n",
       "<style scoped>\n",
       "    .dataframe tbody tr th:only-of-type {\n",
       "        vertical-align: middle;\n",
       "    }\n",
       "\n",
       "    .dataframe tbody tr th {\n",
       "        vertical-align: top;\n",
       "    }\n",
       "\n",
       "    .dataframe thead th {\n",
       "        text-align: right;\n",
       "    }\n",
       "</style>\n",
       "<table border=\"1\" class=\"dataframe\">\n",
       "  <thead>\n",
       "    <tr style=\"text-align: right;\">\n",
       "      <th></th>\n",
       "      <th>Val-Tyr-Val</th>\n",
       "      <th>Trp-Gly</th>\n",
       "      <th>Phe</th>\n",
       "      <th>Malto</th>\n",
       "      <th>Propanol</th>\n",
       "    </tr>\n",
       "  </thead>\n",
       "  <tbody>\n",
       "    <tr>\n",
       "      <th>1</th>\n",
       "      <td>5.0</td>\n",
       "      <td>0.0</td>\n",
       "      <td>0.0</td>\n",
       "      <td>0.0</td>\n",
       "      <td>0.0</td>\n",
       "    </tr>\n",
       "    <tr>\n",
       "      <th>2</th>\n",
       "      <td>0.0</td>\n",
       "      <td>5.0</td>\n",
       "      <td>0.0</td>\n",
       "      <td>0.0</td>\n",
       "      <td>0.0</td>\n",
       "    </tr>\n",
       "    <tr>\n",
       "      <th>3</th>\n",
       "      <td>0.0</td>\n",
       "      <td>0.0</td>\n",
       "      <td>5.0</td>\n",
       "      <td>0.0</td>\n",
       "      <td>0.0</td>\n",
       "    </tr>\n",
       "  </tbody>\n",
       "</table>\n",
       "</div>"
      ],
      "text/plain": [
       "   Val-Tyr-Val  Trp-Gly  Phe  Malto  Propanol\n",
       "1          5.0      0.0  0.0    0.0       0.0\n",
       "2          0.0      5.0  0.0    0.0       0.0\n",
       "3          0.0      0.0  5.0    0.0       0.0"
      ]
     },
     "execution_count": 6,
     "metadata": {},
     "output_type": "execute_result"
    }
   ],
   "source": [
    "df_cts.head(3)"
   ]
  },
  {
   "cell_type": "code",
   "execution_count": 7,
   "metadata": {},
   "outputs": [
    {
     "name": "stdout",
     "output_type": "stream",
     "text": [
      "dict_keys(['__header__', '__version__', '__globals__', 'Y', 'X', 'Z'])\n",
      "('name', 'type', 'author', 'date', 'moddate', 'imagesize', 'imagemode', 'data', 'label', 'axisscale', 'imageaxisscale', 'title', 'class', 'include', 'classlookup', 'axistype', 'imageaxistype', 'description', 'userdata', 'datasetversion', 'history', 'uniqueid')\n"
     ]
    }
   ],
   "source": [
    "print(df_mat.keys())\n",
    "print(df_mat[\"X\"].dtype.names)"
   ]
  },
  {
   "cell_type": "code",
   "execution_count": 8,
   "metadata": {},
   "outputs": [
    {
     "name": "stdout",
     "output_type": "stream",
     "text": [
      "Extracted EEM data with shape (28, 251, 21)\n",
      "Extracted 3-way NMR data with shape (28, 13324, 8)\n",
      "Extracted LCMS data with shape (28, 168)\n"
     ]
    }
   ],
   "source": [
    "data_dic = {}\n",
    "dimensions = [\"X\", \"Y\", \"Z\"]\n",
    "for dim in dimensions:\n",
    "    mesurement_technique = df_mat[dim][\"name\"][0][0][0]\n",
    "    data = df_mat[dim][\"data\"][0][0]\n",
    "    data_dic[mesurement_technique] = data\n",
    "    print(f\"Extracted {mesurement_technique} data with shape {data.shape}\")\n",
    "\n",
    "X_eem = data_dic[\"EEM\"]\n",
    "X_nmr = data_dic[\"3-way NMR\"]\n",
    "X_lcms = data_dic[\"LCMS\"]"
   ]
  },
  {
   "cell_type": "markdown",
   "metadata": {},
   "source": [
    "# Check for missing values\n"
   ]
  },
  {
   "cell_type": "code",
   "execution_count": 9,
   "metadata": {},
   "outputs": [
    {
     "name": "stdout",
     "output_type": "stream",
     "text": [
      "NaNs ? False\n",
      "Inf ? False\n",
      "NaN ratio : 0 / 4704 = 0.00%\n"
     ]
    }
   ],
   "source": [
    "print(\"NaNs ?\", np.isnan(X_lcms).any())\n",
    "print(\"Inf ?\", np.isinf(X_lcms).any())\n",
    "nb_of_values = X_lcms.shape[0] * X_lcms.shape[1]\n",
    "nb_nan = np.isnan(X_lcms).sum()\n",
    "print(f\"NaN ratio : {nb_nan} / {nb_of_values} = {nb_nan/nb_of_values:.2%}\")"
   ]
  },
  {
   "cell_type": "code",
   "execution_count": 10,
   "metadata": {},
   "outputs": [
    {
     "name": "stdout",
     "output_type": "stream",
     "text": [
      "NaNs ? False\n",
      "Inf ? False\n",
      "NaN ratio : 0 / 2984576 = 0.00%\n"
     ]
    }
   ],
   "source": [
    "print(\"NaNs ?\", np.isnan(X_nmr).any())\n",
    "print(\"Inf ?\", np.isinf(X_nmr).any())\n",
    "nb_of_values = X_nmr.shape[0] * X_nmr.shape[1] * X_nmr.shape[2]\n",
    "nb_nan = np.isnan(X_nmr).sum()\n",
    "print(f\"NaN ratio : {nb_nan} / {nb_of_values} = {nb_nan/nb_of_values:.2%}\")"
   ]
  },
  {
   "cell_type": "code",
   "execution_count": 11,
   "metadata": {},
   "outputs": [
    {
     "name": "stdout",
     "output_type": "stream",
     "text": [
      "NaNs ? True\n",
      "Inf ? False\n",
      "NaN ratio : 11508 / 147588 = 7.80%\n"
     ]
    }
   ],
   "source": [
    "print(\"NaNs ?\", np.isnan(X_eem).any())\n",
    "print(\"Inf ?\", np.isinf(X_eem).any())\n",
    "nb_of_values = X_eem.shape[0] * X_eem.shape[1] * X_eem.shape[2]\n",
    "nb_nan = np.isnan(X_eem).sum()\n",
    "print(f\"NaN ratio : {nb_nan} / {nb_of_values} = {nb_nan/nb_of_values:.2%}\")"
   ]
  },
  {
   "cell_type": "code",
   "execution_count": 12,
   "metadata": {},
   "outputs": [
    {
     "name": "stdout",
     "output_type": "stream",
     "text": [
      "Along dimension 0: [ 0  0  0 ... 27 27 27]\n",
      "Along dimension 1: [  0   0   0 ... 249 250 250]\n",
      "Along dimension 2: [7 8 9 ... 9 8 9]\n"
     ]
    }
   ],
   "source": [
    "mask = np.isnan(X_eem)\n",
    "idxs = np.where(mask)\n",
    "print(f\"Along dimension 0: {idxs[0]}\")\n",
    "print(f\"Along dimension 1: {idxs[1]}\")\n",
    "print(f\"Along dimension 2: {idxs[2]}\")"
   ]
  },
  {
   "cell_type": "markdown",
   "metadata": {},
   "source": [
    "Each of the 28 samples has data that is a 2D array of shape (251,21) and it has missing values among these 21 features.\n",
    "Hence, for each sample, we will impute the missing values using the mean across the 251 rows from the slice.\n"
   ]
  },
  {
   "cell_type": "code",
   "execution_count": 13,
   "metadata": {},
   "outputs": [
    {
     "data": {
      "text/plain": [
       "<Axes: >"
      ]
     },
     "execution_count": 13,
     "metadata": {},
     "output_type": "execute_result"
    },
    {
     "data": {
      "image/png": "[encoded data removed]",
      "text/plain": [
       "<Figure size 640x480 with 1 Axes>"
      ]
     },
     "metadata": {},
     "output_type": "display_data"
    }
   ],
   "source": [
    "# count the number of occurence of each index in indxs[2]\n",
    "unique, counts = np.unique(idxs[2], return_counts=True)\n",
    "sns.barplot(x=unique, y=counts)"
   ]
  },
  {
   "cell_type": "code",
   "execution_count": 14,
   "metadata": {},
   "outputs": [
    {
     "data": {
      "text/plain": [
       "7028"
      ]
     },
     "execution_count": 14,
     "metadata": {},
     "output_type": "execute_result"
    }
   ],
   "source": [
    "X_eem.shape[0] * X_eem.shape[1]"
   ]
  },
  {
   "cell_type": "markdown",
   "metadata": {},
   "source": [
    "There are around 550 missing values for each index of the last dimension and there are `X_eem.shape[0]*X_eem.shape[1]=7028` samples in total. This is enough to do imputation.\n"
   ]
  },
  {
   "cell_type": "markdown",
   "metadata": {},
   "source": [
    "# Impute missing values for EEM\n"
   ]
  },
  {
   "cell_type": "code",
   "execution_count": 15,
   "metadata": {},
   "outputs": [],
   "source": [
    "# Impute the array, we will use the mean across the 2nd axis\n",
    "\n",
    "X_eem_imputed = X_eem.copy()\n",
    "means = np.nanmean(X_eem, axis=1)\n",
    "for i in range(X_eem.shape[0]):\n",
    "    X_eem_imputed[i, :, :] = np.where(\n",
    "        np.isnan(X_eem[i, :, :]), means[i], X_eem[i, :, :]\n",
    "    )"
   ]
  },
  {
   "cell_type": "code",
   "execution_count": 16,
   "metadata": {},
   "outputs": [
    {
     "name": "stdout",
     "output_type": "stream",
     "text": [
      "NaNs ? False\n",
      "Inf ? False\n",
      "NaN ratio : 0 / 147588 = 0.00%\n"
     ]
    }
   ],
   "source": [
    "print(\"NaNs ?\", np.isnan(X_eem_imputed).any())\n",
    "print(\"Inf ?\", np.isinf(X_eem_imputed).any())\n",
    "nb_of_values = X_eem_imputed.shape[0] * X_eem_imputed.shape[1] * X_eem_imputed.shape[2]\n",
    "nb_nan = np.isnan(X_eem_imputed).sum()\n",
    "print(f\"NaN ratio : {nb_nan} / {nb_of_values} = {nb_nan/nb_of_values:.2%}\")"
   ]
  }
 ],
 "metadata": {
  "kernelspec": {
   "display_name": "amda",
   "language": "python",
   "name": "python3"
  },
  "language_info": {
   "codemirror_mode": {
    "name": "ipython",
    "version": 3
   },
   "file_extension": ".py",
   "mimetype": "text/x-python",
   "name": "python",
   "nbconvert_exporter": "python",
   "pygments_lexer": "ipython3",
   "version": "3.12.9"
  }
 },
 "nbformat": 4,
 "nbformat_minor": 2
}
